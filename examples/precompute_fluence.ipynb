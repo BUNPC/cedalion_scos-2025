{
 "cells": [
  {
   "cell_type": "markdown",
   "id": "0",
   "metadata": {},
   "source": [
    "# Precomupte forward model results"
   ]
  },
  {
   "cell_type": "code",
   "execution_count": null,
   "id": "1",
   "metadata": {},
   "outputs": [],
   "source": [
    "import pyvista as pv\n",
    "pv.set_jupyter_backend('static')\n",
    "#import memory_profiler"
   ]
  },
  {
   "cell_type": "code",
   "execution_count": null,
   "id": "2",
   "metadata": {},
   "outputs": [],
   "source": [
    "from functools import lru_cache\n",
    "import os\n",
    "\n",
    "import numpy as np\n",
    "import xarray as xr\n",
    "\n",
    "import cedalion.datasets\n",
    "import cedalion.geometry.segmentation\n",
    "import cedalion.imagereco.forward_model as fw\n",
    "import cedalion.io.forward_model\n",
    "from cedalion.io.forward_model import FluenceFile, load_Adot\n",
    "import cedalion.plots\n",
    "xr.set_options(display_expand_data=False);"
   ]
  },
  {
   "cell_type": "code",
   "execution_count": null,
   "id": "3",
   "metadata": {},
   "outputs": [],
   "source": [
    "def compute_fluence_mcx(rec, head, output_file):\n",
    "    geo3d_snapped_ijk = head.align_and_snap_to_scalp(rec.geo3d)\n",
    "\n",
    "    fwm = cedalion.imagereco.forward_model.ForwardModel(\n",
    "        head, geo3d_snapped_ijk, rec._measurement_lists[\"amp\"]\n",
    "    )\n",
    "\n",
    "    fwm.compute_fluence_mcx(output_file)\n",
    "\n",
    "    #with cedalion.io.forward_model.FluenceFile(output_file ,\"r\") as fluence_file:\n",
    "    #    fluence_all = fluence_file.get_fluence_all()\n",
    "    #    fluence_at_optodes = fluence_file.get_fluence_at_optodes()\n",
    "\n",
    "    #return fluence_all, fluence_at_optodes\n",
    "\n",
    "\n",
    "def plot_fluence(rec, head, fluence_fname, src, det, wl):\n",
    "    geo3d_snapped_ijk = head.align_and_snap_to_scalp(rec.geo3d)\n",
    "\n",
    "    with FluenceFile(fluence_fname) as fluence_file:\n",
    "        f = fluence_file.get_fluence(src, wl) * fluence_file.get_fluence(det, wl)\n",
    "\n",
    "    # clip fluence to smallest positive value and transform to log\n",
    "    f[f <= 0] = f[f > 0].min()\n",
    "    f = np.log10(f)\n",
    "\n",
    "    vf = pv.wrap(f)\n",
    "\n",
    "    plt = pv.Plotter()\n",
    "    plt.add_volume(\n",
    "        vf,\n",
    "        log_scale=False,\n",
    "        cmap=\"plasma_r\",\n",
    "        clim=(-10, 0),\n",
    "    )\n",
    "    cedalion.plots.plot_surface(plt, head.brain, color=\"w\")\n",
    "    cedalion.plots.plot_labeled_points(plt, geo3d_snapped_ijk, show_labels=False)\n",
    "\n",
    "    cog = head.brain.vertices.mean(\"label\").values\n",
    "    plt.camera.position = cog + [-300, 30, 150]\n",
    "    plt.camera.focal_point = cog\n",
    "    plt.camera.up = [0, 0, 1]\n",
    "\n",
    "    plt.show()\n",
    "\n",
    "def compute_sensitivity(rec, head, fluence_fname, sensitivity_fname):\n",
    "    geo3d_snapped_ijk = head.align_and_snap_to_scalp(rec.geo3d)\n",
    "\n",
    "    fwm = cedalion.imagereco.forward_model.ForwardModel(\n",
    "        head, geo3d_snapped_ijk, rec._measurement_lists[\"amp\"]\n",
    "    )\n",
    "\n",
    "    fwm.compute_sensitivity(fluence_fname, sensitivity_fname)\n",
    "\n",
    "@lru_cache\n",
    "def get_headmodel(model : str):\n",
    "    if model == \"colin27\":\n",
    "        SEG_DATADIR, mask_files, landmarks_file = (\n",
    "            cedalion.datasets.get_colin27_segmentation()\n",
    "        )\n",
    "\n",
    "        head = fw.TwoSurfaceHeadModel.from_segmentation(\n",
    "            segmentation_dir=SEG_DATADIR,\n",
    "            mask_files=mask_files,\n",
    "            landmarks_ras_file=landmarks_file,\n",
    "        )\n",
    "\n",
    "\n",
    "    elif model == \"icbm152\":\n",
    "        SEG_DATADIR, mask_files, landmarks_file = (\n",
    "        cedalion.datasets.get_icbm152_segmentation()\n",
    "        )\n",
    "\n",
    "        head = fw.TwoSurfaceHeadModel.from_surfaces(\n",
    "            segmentation_dir=SEG_DATADIR,\n",
    "            mask_files=mask_files,\n",
    "            brain_surface_file=os.path.join(SEG_DATADIR, \"mask_brain.obj\"),\n",
    "            landmarks_ras_file=landmarks_file,\n",
    "            brain_face_count=None,\n",
    "            scalp_face_count=None,\n",
    "        )\n",
    "    else:\n",
    "        raise ValueError(\"unknown head model\")\n",
    "\n",
    "    return head\n",
    "\n",
    "def get_fnirs_dataset(dataset):\n",
    "    if dataset == \"fingertappingDOT\":\n",
    "        return cedalion.datasets.get_fingertappingDOT()\n",
    "    elif dataset == \"fingertapping\":\n",
    "        return cedalion.datasets.get_fingertapping()\n",
    "\n",
    "\n",
    "def compute_fluence_and_sensitivity(dataset : str, headmodel : str):\n",
    "    rec = get_fnirs_dataset(dataset)\n",
    "    head = get_headmodel(headmodel)\n",
    "\n",
    "    fluence_fname = f\"fluence_{dataset}_{headmodel}.h5\"\n",
    "    sensitivity_fname = f\"sensitivity_{dataset}_{headmodel}.nc\"\n",
    "\n",
    "    compute_fluence_mcx(rec, head, fluence_fname)\n",
    "    compute_sensitivity(rec, head, fluence_fname, sensitivity_fname)"
   ]
  },
  {
   "cell_type": "code",
   "execution_count": null,
   "id": "4",
   "metadata": {},
   "outputs": [],
   "source": [
    "compute_fluence_and_sensitivity(\"fingertappingDOT\", \"colin27\")"
   ]
  },
  {
   "cell_type": "code",
   "execution_count": null,
   "id": "5",
   "metadata": {},
   "outputs": [],
   "source": [
    "compute_fluence_and_sensitivity(\"fingertappingDOT\", \"icbm152\")"
   ]
  },
  {
   "cell_type": "code",
   "execution_count": null,
   "id": "6",
   "metadata": {},
   "outputs": [],
   "source": [
    "compute_fluence_and_sensitivity(\"fingertapping\", \"colin27\")"
   ]
  },
  {
   "cell_type": "code",
   "execution_count": null,
   "id": "7",
   "metadata": {},
   "outputs": [],
   "source": [
    "compute_fluence_and_sensitivity(\"fingertapping\", \"icbm152\")"
   ]
  },
  {
   "cell_type": "code",
   "execution_count": null,
   "id": "8",
   "metadata": {},
   "outputs": [],
   "source": [
    "ls -lh fluence*.h5"
   ]
  }
 ],
 "metadata": {
  "kernelspec": {
   "display_name": "Python 3 (ipykernel)",
   "language": "python",
   "name": "python3"
  },
  "language_info": {
   "codemirror_mode": {
    "name": "ipython",
    "version": 3
   },
   "file_extension": ".py",
   "mimetype": "text/x-python",
   "name": "python",
   "nbconvert_exporter": "python",
   "pygments_lexer": "ipython3",
   "version": "3.11.8"
  }
 },
 "nbformat": 4,
 "nbformat_minor": 5
}
