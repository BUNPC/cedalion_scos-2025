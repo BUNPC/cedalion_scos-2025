{
 "cells": [
  {
   "cell_type": "markdown",
   "id": "2502be26",
   "metadata": {},
   "source": [
    "# Using fNIRS Channel Variance as a Proxy for Measurement Noise\n",
    "\n",
    "To improve statistics, channel pruning might not always be the way. \n",
    "An alternative is to use channel weights in the calculation of averages (e.g. across subjects) or image reconstruction. \n",
    "One way of weighting channels is by their estimated measurement noise. \n",
    "Variance can be a proxy of measurement noise, e.g. when calculated across trials of the same condition (within subject) or across time on the residual after GLM fit.\n",
    "This notebook is WIP to provide help to explore this approach with a helper function (quality.measurement_variance) for this purpose."
   ]
  },
  {
   "cell_type": "code",
   "execution_count": null,
   "id": "c663c81f",
   "metadata": {},
   "outputs": [],
   "source": [
    "import matplotlib.pyplot as plt\n",
    "from matplotlib.colors import LinearSegmentedColormap\n",
    "import numpy as np\n",
    "\n",
    "import cedalion\n",
    "import cedalion.datasets as datasets\n",
    "import cedalion.nirs\n",
    "import cedalion.sigproc.quality as quality\n",
    "import cedalion.sigproc.motion_correct as motion_correct\n",
    "from cedalion import units\n",
    "import cedalion.xrutils as xrutils\n",
    "\n",
    "%matplotlib widget"
   ]
  },
  {
   "cell_type": "code",
   "execution_count": null,
   "id": "8626951e",
   "metadata": {},
   "outputs": [],
   "source": [
    "# some plotting helper functions for this notebook\n",
    "\n",
    "def plot_heatmap(da, cov_wavelength=None, figsize=(12, 4), cmap=None):\n",
    "    \"\"\" Plot either:\n",
    "      1. A “variance” DataArray with dims (\"channel\", \"wavelength\"), as a channel×wavelength heatmap;\n",
    "      2. A “covariance” DataArray with dims (\"wavelength\", \"channel1\", \"channel2\"), \n",
    "         by selecting exactly one wavelength (cov_wavelength) and plotting the channel1×channel2 matrix.\n",
    "\n",
    "    Parameters\n",
    "    ----------\n",
    "    da : xarray.DataArray\n",
    "        - If dims == (\"channel\", \"wavelength\"): plot variance (channels on x, wavelengths on y).\n",
    "        - If dims == (\"wavelength\", \"channel1\", \"channel2\"): plot covariance at one wavelength.\n",
    "    cov_wavelength : scalar, optional\n",
    "        Required only when da.dims == (\"wavelength\", \"channel1\", \"channel2\"). Must be one of da.wavelength values.\n",
    "    figsize : tuple of float, optional\n",
    "        Figure size in inches. Defaults to (12, 4).\n",
    "    cmap : str or matplotlib.Colormap, optional\n",
    "        Which colormap to use. If None, uses the default.\n",
    "\n",
    "    Returns\n",
    "    -------\n",
    "    fig, ax : matplotlib.Figure, matplotlib.Axes\n",
    "        Figure and Axes objects, for any further customization.\n",
    "    \"\"\"\n",
    "\n",
    "    dims = da.dims\n",
    "\n",
    "    # 1) VARIANCE CASE: dims = (\"channel\", \"wavelength\")\n",
    "    if set(dims) == {\"channel\", \"wavelength\"}:\n",
    "        # Convert to pandas DataFrame so that rows = channels, cols = wavelengths\n",
    "        df = da.to_pandas()\n",
    "\n",
    "        # We want channels on the x-axis, wavelengths on the y-axis.\n",
    "        #   df.values has shape (n_channels, n_wavelengths), so transpose → (n_wavelengths, n_channels)\n",
    "        arr = df.values.T\n",
    "\n",
    "        x_labels = df.index.tolist()         # channel names\n",
    "        y_labels = [str(int(wl)) for wl in df.columns]  # wavelength values as strings\n",
    "\n",
    "        x_dim_name = \"channel\"\n",
    "        y_dim_name = \"wavelength\"\n",
    "        cbar_label = \"Variance\"\n",
    "\n",
    "    # 2) COVARIANCE CASE: dims = (\"wavelength\", \"channel1\", \"channel2\")\n",
    "    elif set(dims) == {\"wavelength\", \"channel1\", \"channel2\"}:\n",
    "        if cov_wavelength is None:\n",
    "            raise ValueError(\n",
    "                \"When da.dims == ('wavelength','channel1','channel2'), you must supply cov_wavelength.\"\n",
    "            )\n",
    "        # Extract the 2D slice at that wavelength\n",
    "        da2d = da.sel(wavelength=cov_wavelength)\n",
    "        # Make sure dims are in order (channel1, channel2)\n",
    "        da2d = da2d.transpose(\"channel1\", \"channel2\")\n",
    "\n",
    "        arr = da2d.values  # shape = (n_channel1, n_channel2)\n",
    "\n",
    "        x_labels = da2d.coords[\"channel2\"].values.tolist()\n",
    "        y_labels = da2d.coords[\"channel1\"].values.tolist()\n",
    "\n",
    "        x_dim_name = \"channel2\"\n",
    "        y_dim_name = \"channel1\"\n",
    "        cbar_label = f\"Covariance (λ={cov_wavelength})\"\n",
    "\n",
    "    else:\n",
    "        raise ValueError(f\"Unsupported DataArray dimensions: {dims}\")\n",
    "\n",
    "    # 3) Plot the 2D array with imshow\n",
    "    fig, ax = plt.subplots(figsize=figsize)\n",
    "    im = ax.imshow(arr, aspect=\"auto\", cmap=cmap)\n",
    "\n",
    "    # 4) Set x-axis ticks/labels\n",
    "    ax.set_xticks(range(len(x_labels)))\n",
    "    ax.set_xticklabels(x_labels, rotation=90, fontsize=8)\n",
    "\n",
    "    # 5) Set y-axis ticks/labels\n",
    "    ax.set_yticks(range(len(y_labels)))\n",
    "    ax.set_yticklabels(y_labels, fontsize=8)\n",
    "\n",
    "    # 6) Label axes from the dimension names\n",
    "    ax.set_xlabel(x_dim_name)\n",
    "    ax.set_ylabel(y_dim_name)\n",
    "\n",
    "    # 7) Add a colorbar\n",
    "    cbar = fig.colorbar(im, ax=ax)\n",
    "    cbar.set_label(cbar_label)\n",
    "\n",
    "    plt.tight_layout()\n",
    "    return fig, ax"
   ]
  },
  {
   "cell_type": "markdown",
   "id": "ccb7f2c6",
   "metadata": {},
   "source": [
    "## Plain Channel Variance\n",
    "Note: channel variance can only be a proxy for measurement noise if calculated OD or CONC. Do not calculate on raw intensity."
   ]
  },
  {
   "cell_type": "code",
   "execution_count": null,
   "id": "7050d9b0",
   "metadata": {},
   "outputs": [],
   "source": [
    "# get example finger tapping dataset\n",
    "rec = datasets.get_fingertapping()\n",
    "rec[\"od\"] = cedalion.nirs.int2od(rec[\"amp\"])\n",
    "\n",
    "\n",
    "# Plot some data for visual validation\n",
    "f,ax = plt.subplots(1,1, figsize=(12,4))\n",
    "ax.plot( rec[\"od\"].time, rec[\"od\"].sel(channel=\"S1D1\", wavelength=\"850\"), \"r-\", label=\"S1D1 850nm\")\n",
    "ax.plot( rec[\"od\"].time, rec[\"od\"].sel(channel=\"S1D1\", wavelength=\"760\"), \"b-\", label=\"S1D1 760nm\")\n",
    "plt.legend()\n",
    "ax.set_xlim(0, 500)\n",
    "ax.set_xlabel(\"time / s\")\n",
    "ax.set_ylabel(\"Signal intensity / a.u.\")"
   ]
  },
  {
   "cell_type": "markdown",
   "id": "ed63a5b4",
   "metadata": {},
   "source": [
    "Calculate variance of all channels and display results"
   ]
  },
  {
   "cell_type": "code",
   "execution_count": null,
   "id": "5a512e18",
   "metadata": {},
   "outputs": [],
   "source": [
    "# calculate variance of optical density (OD) measurements for all channels and wavelengths\n",
    "od_var = quality.measurement_variance(rec[\"od\"])\n",
    "display(od_var)\n",
    "\n",
    "fig, ax = plot_heatmap(od_var)\n",
    "plt.show()"
   ]
  },
  {
   "cell_type": "markdown",
   "id": "27174d47",
   "metadata": {},
   "source": [
    "From the plot above we can identify S6D8 (760nm) as a channel with high variance and and S1D2 (760nm) as a channel with low variance. S7D6 is somewhere inbetween.\n",
    "Lets investigate how the corresponding time series looks like."
   ]
  },
  {
   "cell_type": "code",
   "execution_count": null,
   "id": "9a445293",
   "metadata": {},
   "outputs": [],
   "source": [
    "# Plot some data for visual validation\n",
    "f,ax = plt.subplots(1,1, figsize=(12,4))\n",
    "ax.plot( rec[\"od\"].time, rec[\"od\"].sel(channel=\"S6D8\", wavelength=\"760\"), \"r-\", label=\"S6D8 760nm\")\n",
    "ax.plot( rec[\"od\"].time, rec[\"od\"].sel(channel=\"S1D2\", wavelength=\"760\"), \"b-\", label=\"S1D2 760nm\")\n",
    "ax.plot( rec[\"od\"].time, rec[\"od\"].sel(channel=\"S7D6\", wavelength=\"760\"), \"y-\", label=\"S7D6 760nm\")\n",
    "plt.legend()\n",
    "ax.set_xlim(0, 500)\n",
    "ax.set_xlabel(\"time / s\")\n",
    "ax.set_ylabel(\"Signal intensity / a.u.\")"
   ]
  },
  {
   "cell_type": "markdown",
   "id": "914e108b",
   "metadata": {},
   "source": [
    "We can see that the Channel with high variance has motion artifacts. These can be removed with [motion correction methods](https://doc.ibs.tu-berlin.de/cedalion/doc/dev/examples/signal_quality/22_motion_artefacts_and_correction.html) and we can recalculate the variance to see if this helped. If we don't, and use the channel variance as is for weighting in further processing, the channel with motion artifacts will be downweighted, as it has higher variance."
   ]
  },
  {
   "cell_type": "code",
   "execution_count": null,
   "id": "4261f9f8",
   "metadata": {},
   "outputs": [],
   "source": [
    "# motion correction using the wavelet and tddr methods  \n",
    "rec[\"od_corrected\"] = motion_correct.tddr(rec[\"od\"])\n",
    "rec[\"od_corrected\"] = motion_correct.motion_correct_wavelet(rec[\"od_corrected\"])\n",
    "\n",
    "\n",
    "# Plot corrected data for visual validation\n",
    "f,ax = plt.subplots(1,1, figsize=(12,4))\n",
    "ax.plot( rec[\"od_corrected\"].time, rec[\"od_corrected\"].sel(channel=\"S6D8\", wavelength=\"760\"), \"r-\", label=\"S6D8 760nm\")\n",
    "ax.plot( rec[\"od_corrected\"].time, rec[\"od_corrected\"].sel(channel=\"S1D2\", wavelength=\"760\"), \"b-\", label=\"S1D2 760nm\")\n",
    "ax.plot( rec[\"od_corrected\"].time, rec[\"od_corrected\"].sel(channel=\"S7D6\", wavelength=\"760\"), \"y-\", label=\"S7D6 760nm\")\n",
    "plt.legend()\n",
    "ax.set_xlim(0, 500)\n",
    "ax.set_xlabel(\"time / s\")\n",
    "ax.set_ylabel(\"Signal intensity / a.u.\")\n",
    "\n",
    "# calculate variance on the corrected signal\n",
    "od_var2 = quality.measurement_variance(rec[\"od_corrected\"])\n",
    "\n",
    "\n",
    "## Display results as a heatmap\n",
    "fig, ax = plot_heatmap(od_var2)\n",
    "plt.show()"
   ]
  },
  {
   "cell_type": "markdown",
   "id": "fb1edcb4",
   "metadata": {},
   "source": [
    "We can see that motion correction took care of some variance (and therefore fixed some channels like S6D8), but not all of it, S4D4 remains partially noisy."
   ]
  },
  {
   "cell_type": "markdown",
   "id": "3553354a",
   "metadata": {},
   "source": [
    "## Channel variance under consideration of flagged bad channels\n",
    "There are cases in which we don't trust channel variance as a proxy for measurement noise. Examples are saturated channels.\n",
    "We could  also want to penalize channels with motion artifacts particulalry strongly and for instance kick out S4D4, which did only partially profit from artifact rejection.\n",
    "For this we can provide a list of \"bad\" channels and a custom weight."
   ]
  },
  {
   "cell_type": "code",
   "execution_count": null,
   "id": "a08341f9",
   "metadata": {},
   "outputs": [],
   "source": [
    "# lets assume we do not want to do motion correction and channel S1D1 is saturated. \n",
    "# We give S1D1 it a constant value of 1V with only the measurement noise of the system of 10mV\n",
    "rec[\"amp\"].loc[{\"channel\": \"S1D1\"}] = (1 + np.random.normal(0, 10e-3, rec[\"amp\"].sel(channel=\"S1D1\").shape))*units.V\n",
    "\n",
    "# now convert the signal to optical density\n",
    "rec[\"od\"] = cedalion.nirs.int2od(rec[\"amp\"])\n",
    "\n",
    "\n",
    "# Plot some data for visual validation\n",
    "f,ax = plt.subplots(1,1, figsize=(12,4))\n",
    "ax.plot( rec[\"od\"].time, rec[\"od\"].sel(channel=\"S1D1\", wavelength=\"760\"), \"b-\", label=\"S1D1 760nm\")\n",
    "ax.plot( rec[\"od\"].time, rec[\"od\"].sel(channel=\"S4D4\", wavelength=\"850\"), \"r-\", label=\"S4D4 850nm\")\n",
    "plt.legend()\n",
    "ax.set_xlim(0, 500)\n",
    "ax.set_xlabel(\"time / s\")\n",
    "ax.set_ylabel(\"Signal intensity / a.u.\")"
   ]
  },
  {
   "cell_type": "markdown",
   "id": "a2becc1a",
   "metadata": {},
   "source": [
    "Looking at the resulting variance of the saturated channel S1D2 and comparing it with the noisy (motion artifact) channel S4D4..."
   ]
  },
  {
   "cell_type": "code",
   "execution_count": null,
   "id": "567334e0",
   "metadata": {},
   "outputs": [],
   "source": [
    "# calculate variance of optical density (OD) measurements for all channels and chromophores\n",
    "od_var = quality.measurement_variance(rec[\"od\"])\n",
    "\n",
    "# print channel S1D1 760nm and channel S6D8 760nm variance \n",
    "print(\"S1D1 760nm variance:\", od_var.sel(channel=\"S1D1\", wavelength=\"760\").values)\n",
    "print(\"S4D4 760nm variance:\", od_var.sel(channel=\"S4D4\", wavelength=\"850\").values)\n"
   ]
  },
  {
   "cell_type": "markdown",
   "id": "a8dbc997",
   "metadata": {},
   "source": [
    "we can tell that the metric cannot account for saturation, and we should manually drop / downweight the saturated channel. "
   ]
  },
  {
   "cell_type": "code",
   "execution_count": null,
   "id": "e0ed5947",
   "metadata": {},
   "outputs": [],
   "source": [
    "list_bad_channels = [\"S1D1\", \"S4D4\"]\n",
    "bad_rel_var = 1e5 # we use a large factor that will be multiplied with the channel variance to effectively remove the channel from the analysis wherever it is weighted by its variance\n",
    "\n",
    "od_var = quality.measurement_variance(rec[\"od\"], list_bad_channels, bad_rel_var)\n",
    "\n",
    "## Display results as a heatmap, this time on a logarithmic scale as the penalty factor is large\n",
    "fig, ax = plot_heatmap(np.log(od_var))\n",
    "plt.show()"
   ]
  },
  {
   "cell_type": "markdown",
   "id": "b4ba33f3",
   "metadata": {},
   "source": [
    "## Using Variance as Proxy for measurement Noise to Downweight Channels\n",
    "Lets apply this now, for instance to normalize signals using the noise proxy (smaller variance will amplify a signal)"
   ]
  },
  {
   "cell_type": "code",
   "execution_count": null,
   "id": "fb3110ff",
   "metadata": {},
   "outputs": [],
   "source": [
    "# normalize signals by their variance\n",
    "rec[\"normalized_od\"] = rec[\"od\"] / od_var\n",
    "\n",
    "# Plot normalized data for visual validation\n",
    "f,ax = plt.subplots(1,1, figsize=(12,4))\n",
    "\n",
    "ax.plot( rec[\"normalized_od\"].time, rec[\"normalized_od\"].sel(channel=\"S4D12\", wavelength=\"760\"), \"g-\", label=\"S4D12 760nm, weighted with variance = \" +str(od_var.sel(channel=\"S4D12\", wavelength=\"760\").values))\n",
    "ax.plot( rec[\"normalized_od\"].time, rec[\"normalized_od\"].sel(channel=\"S1D2\", wavelength=\"760\"), \"b-\", label=\"S1D2 760nm, weighted with variance = \" +str(od_var.sel(channel=\"S1D2\", wavelength=\"760\").values))\n",
    "ax.plot( rec[\"normalized_od\"].time, rec[\"normalized_od\"].sel(channel=\"S7D6\", wavelength=\"760\"), \"y-\", label=\"S7D6 760nm, weighted with variance = \" +str(od_var.sel(channel=\"S7D6\", wavelength=\"760\").values))\n",
    "ax.plot( rec[\"normalized_od\"].time, rec[\"normalized_od\"].sel(channel=\"S1D1\", wavelength=\"760\"), \"r-\", label=\"S1D1 760nm, weighted with penalty*variance = \"+str(bad_rel_var*od_var.sel(channel=\"S1D2\", wavelength=\"760\").values))\n",
    "plt.legend()\n",
    "ax.set_xlim(0, 500)\n",
    "ax.set_xlabel(\"time / s\")\n",
    "ax.set_ylabel(\"Signal intensity / a.u.\")"
   ]
  },
  {
   "cell_type": "markdown",
   "id": "5de9f373",
   "metadata": {},
   "source": [
    "## Channel Covariance\n",
    "Lastly, we might also be interested in channel covariance..."
   ]
  },
  {
   "cell_type": "code",
   "execution_count": null,
   "id": "cb56f468",
   "metadata": {},
   "outputs": [],
   "source": [
    "# use the same function to calculate the covariance of the optical density measurements\n",
    "list_bad_channels = [\"S1D1\", \"S4D4\"]\n",
    "bad_rel_var = 10  # much smaller factor than the default just to highlight the effect\n",
    "\n",
    "od_covar = quality.measurement_variance(rec[\"od\"], list_bad_channels, bad_rel_var, calc_covariance=True)\n",
    "display(od_covar)\n",
    "\n",
    "\n",
    "# use log(Var) again because we penalized the bad channels with a large factor\n",
    "fig, ax = plot_heatmap(od_covar, cov_wavelength=760.0, figsize=(10, 10))\n",
    "plt.show()"
   ]
  }
 ],
 "metadata": {
  "kernelspec": {
   "display_name": "cedalion",
   "language": "python",
   "name": "python3"
  },
  "language_info": {
   "codemirror_mode": {
    "name": "ipython",
    "version": 3
   },
   "file_extension": ".py",
   "mimetype": "text/x-python",
   "name": "python",
   "nbconvert_exporter": "python",
   "pygments_lexer": "ipython3",
   "version": "3.11.8"
  }
 },
 "nbformat": 4,
 "nbformat_minor": 5
}
